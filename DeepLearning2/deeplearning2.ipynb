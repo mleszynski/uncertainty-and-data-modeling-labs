{
 "cells": [
  {
   "cell_type": "code",
   "execution_count": null,
   "metadata": {
    "colab": {},
    "colab_type": "code",
    "id": "_HaCF0y2YpwU"
   },
   "outputs": [],
   "source": [
    "from music21 import converter, instrument, note, chord, stream, midi\n",
    "from google.colab import files\n",
    "import glob\n",
    "import os\n",
    "import gzip\n",
    "import tarfile    \n",
    "from torchvision import datasets                  \n",
    "import numpy as np\n",
    "import torch\n",
    "import torch.nn as nn\n",
    "import torch.optim\n",
    "from torch.utils.data import DataLoader, random_split\n",
    "import matplotlib.pyplot as plt\n",
    "from tqdm import tqdm\n",
    "\n",
    "assert torch.cuda.is_available()"
   ]
  },
  {
   "cell_type": "code",
   "execution_count": null,
   "metadata": {
    "colab": {},
    "colab_type": "code",
    "id": "MQLLgkzrYviL"
   },
   "outputs": [],
   "source": [
    "# Import Drive for easier saving\n",
    "from google.colab import drive\n",
    "drive.mount('/content/drive')"
   ]
  },
  {
   "cell_type": "code",
   "execution_count": null,
   "metadata": {
    "colab": {},
    "colab_type": "code",
    "id": "rCbORzBiYy6f"
   },
   "outputs": [],
   "source": [
    "def download_data(filepath):\n",
    "    if not os.path.exists(os.path.join(filepath, 'mozart_sonatas.tar.gz')):\n",
    "      datasets.utils.download_url('https://github.com/Foundations-of-Applied-Mathematics/Data/raw/master/RNN/mozart_sonatas.tar.gz', filepath, 'mozart_sonatas.tar.gz', None)\n",
    "\n",
    "    print('Extracting {}'.format('mozart_sonatas.tar.gz'))\n",
    "    gzip_path = os.path.join(filepath, 'mozart_sonatas.tar.gz')\n",
    "    with open(gzip_path.replace('.gz', ''), 'wb') as out_f, gzip.GzipFile(gzip_path) as zip_f:\n",
    "      out_f.write(zip_f.read())\n",
    "\n",
    "    print('Untarring {}'.format('mozart_sonatas.tar'))\n",
    "    tar_path = os.path.join(filepath,'mozart_sonatas.tar')\n",
    "    z = tarfile.TarFile(tar_path)\n",
    "    z.extractall(tar_path.replace('.tar', ''))\n",
    "\n"
   ]
  },
  {
   "cell_type": "markdown",
   "metadata": {
    "colab_type": "text",
    "id": "m7WTL6LYY0uP"
   },
   "source": [
    "**Problem 1**:\n",
    "\n",
    "Download the data.\n",
    "Write a function that accepts the path to the .mid files, parses the files, and returns a list of the $119348$ pitches as strings. \n",
    "For the Chords, join the pitches of the notes in the chords with a . as in D3.D2.\n",
    "\n",
    "Print the length of your list and the number of unique pitches.\n"
   ]
  },
  {
   "cell_type": "code",
   "execution_count": null,
   "metadata": {
    "colab": {},
    "colab_type": "code",
    "id": "hEpK4GIyZCWg"
   },
   "outputs": [],
   "source": []
  },
  {
   "cell_type": "markdown",
   "metadata": {
    "colab_type": "text",
    "id": "3votXpqiZCtY"
   },
   "source": [
    "**Problem 2.** \n",
    "\n",
    "Using the list returned in Problem 1, create the training and testing DataLoaders.\n",
    "Make sure to do all of the following steps:\n",
    "\n",
    "\n",
    "1) Convert the pitches to integers.\n",
    "2) Split the data into Long tensors of length 100.\n",
    "3) Create the labels.\n",
    "4) Randomly split the data into training and test sets using an 80/20 split.\n",
    "5) Create the DataLoaders for both sets of data, using batch_size=128 for the training data and batch_size=1 for the test data.\n",
    " \n",
    "\n",
    "Print the length of each DataLoader.\n"
   ]
  },
  {
   "cell_type": "code",
   "execution_count": null,
   "metadata": {
    "colab": {},
    "colab_type": "code",
    "id": "UghZuJfxZuzO"
   },
   "outputs": [],
   "source": []
  },
  {
   "cell_type": "markdown",
   "metadata": {
    "colab_type": "text",
    "id": "mOtS86Rbi0P_"
   },
   "source": [
    "**Problem 3**\n",
    "\n",
    "Create the network class.\n",
    "Include at least $3$ LSTM layers, each followed by Dropout layers with probability $.3.$\n",
    "Also have at least $2$ Linear layers.\n",
    "The last LSTM layer and each of the Linear layers should be followed by a BatchNorm1d layer, for at least $3$ total batchnorm layers.\n",
    "The final layer should be a Softmax activation.\n",
    "\n",
    "Initialize the model, loss as CrossEntropyLoss, and optimizer as RMSprop.\n",
    "\n",
    "Train the model until the accuracy is above 95\\%. This can take?\n",
    "\n",
    "\n",
    "\n",
    "After taking a backwards step during training, scale the gradients using \n",
    "nn.utils.clip_grad_norm_(model.parameters(), 5)\n",
    "This will ensure that the gradients are reasonably sized so that the model can learn.\n",
    "\n",
    "At the end of each epoch, calculate the accuracy and mean loss on the test data.\n",
    "Remember to change the model to eval() mode when running the test data and train() when running on the training data.\n",
    "\n",
    "After the accuracy is above 95\\%, plot the training and test losses versus epochs on the same plot.\n",
    "Plot the accuracy versus epochs.\n"
   ]
  },
  {
   "cell_type": "code",
   "execution_count": null,
   "metadata": {
    "colab": {},
    "colab_type": "code",
    "id": "jMhH1W7ciwzB"
   },
   "outputs": [],
   "source": [
    "class RNN(nn.Module):\n",
    "    '''\n",
    "    Recurrent Neural Network Class\n",
    "    '''\n",
    "    def __init__(self,n_notes,embedding_dim):\n",
    "      super(Network, self).__init__()\n",
    "      # initialize layers\n",
    "      \n",
    "    def forward(self, x, hidden):\n",
    "      # forward pass\n",
    "\n",
    "    def initHidden(self,batch_size):\n",
    "      # initialize the hidden layers\n",
    "      weight = next(self.parameters()).data\n",
    "      h0 = weight.new(self.num_layers, batch_size, self.hidden_size).zero_().to(device)\n",
    "      h1 = weight.new(self.num_layers, batch_size, self.hidden_size).zero_().to(device)\n",
    "      return (h0, h1)"
   ]
  },
  {
   "cell_type": "markdown",
   "metadata": {
    "colab_type": "text",
    "id": "sZilPcMCmOED"
   },
   "source": [
    "**Problem 4.** \n",
    "Write a function that randomly chooses a sequence in the test data and predicts\n",
    "the next 500 elements. \n",
    "Return a list of the 600 pitches in the sequence."
   ]
  },
  {
   "cell_type": "code",
   "execution_count": null,
   "metadata": {
    "colab": {},
    "colab_type": "code",
    "id": "3HciNV-gnLOA"
   },
   "outputs": [],
   "source": [
    "def load_model(filename):\n",
    "  \"\"\" Load a saved model to continue training or evaluate \"\"\"\n",
    "  device = torch.device(\"cuda:0\" if torch.cuda.is_available() else \"cpu\")\n",
    "\n",
    "  model = Network(n_vocab,32)\n",
    "  model = model.to(device)\n",
    "  criterion = nn.CrossEntropyLoss()\n",
    "  optimizer = torch.optim.RMSprop(model.parameters(),lr=.001)\n",
    "\n",
    "  checkpoint = torch.load(filename,map_location=torch.device('cpu'))\n",
    "  model.load_state_dict(checkpoint['model_state_dict'])\n",
    "  optimizer.load_state_dict(checkpoint['optimizer_state_dict'])\n",
    "  last_epoch = checkpoint['epoch']\n",
    "  loss = checkpoint['loss']\n",
    "  model.eval() # For evaluation only\n",
    "  \n",
    "  return model, criterion, optimizer"
   ]
  },
  {
   "cell_type": "code",
   "execution_count": null,
   "metadata": {},
   "outputs": [],
   "source": []
  },
  {
   "cell_type": "markdown",
   "metadata": {
    "colab_type": "text",
    "id": "-syHIeZ4nLhh"
   },
   "source": [
    "**Problem 5.** \n",
    "Convert the sequence from Problem 4 into note and chord objects and save it to\n",
    "'mozart.mid'."
   ]
  },
  {
   "cell_type": "code",
   "execution_count": null,
   "metadata": {},
   "outputs": [],
   "source": []
  }
 ],
 "metadata": {
  "colab": {
   "collapsed_sections": [],
   "name": "rnn.ipynb",
   "provenance": []
  },
  "kernelspec": {
   "display_name": "Python 3",
   "language": "python",
   "name": "python3"
  },
  "language_info": {
   "codemirror_mode": {
    "name": "ipython",
    "version": 3
   },
   "file_extension": ".py",
   "mimetype": "text/x-python",
   "name": "python",
   "nbconvert_exporter": "python",
   "pygments_lexer": "ipython3",
   "version": "3.8.5"
  }
 },
 "nbformat": 4,
 "nbformat_minor": 4
}
