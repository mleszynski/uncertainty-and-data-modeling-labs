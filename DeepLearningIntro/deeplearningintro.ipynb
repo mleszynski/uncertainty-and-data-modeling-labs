{
 "cells": [
  {
   "cell_type": "code",
   "execution_count": null,
   "metadata": {
    "id": "mTEKNr9cHvBg"
   },
   "outputs": [],
   "source": [
    "import torch\n",
    "import torch.nn as nn\n",
    "import torch.nn.functional as F \n",
    "import torch.optim as optim\n",
    "from torchvision import datasets, transforms\n",
    "from torch.utils.data import DataLoader, RandomSampler\n",
    "import numpy as np\n",
    "import os\n",
    "import matplotlib.pyplot as plt\n",
    "from tqdm import tqdm\n",
    "\n",
    "#assert torch.cuda.is_available()"
   ]
  },
  {
   "cell_type": "markdown",
   "metadata": {
    "id": "5_83nhfH4GXe"
   },
   "source": [
    "# Problem 1\n",
    "Download the CIFAR10 training and test datasets.\n",
    "Transform them into tensors, normalize them as described above in the code, and create DataLoaders for each one. \n",
    "For the training set, use a batch size of 32, and for the test set, use a batch size of 1."
   ]
  },
  {
   "cell_type": "code",
   "execution_count": null,
   "metadata": {
    "id": "md5EnYI2Rt3w"
   },
   "outputs": [],
   "source": [
    "classes = ('airplanes', 'cars', 'birds', 'cats', 'deer', 'dogs', 'frogs', 'horses', 'ships', 'trucks')"
   ]
  },
  {
   "cell_type": "markdown",
   "metadata": {
    "id": "_n_LX7YU_eF7"
   },
   "source": [
    "# Problem 2\n",
    "\n",
    "Create a convolution model class convoles an image of size $3\\times 32 \\times 32$ into a 1D tensor that represents the $10$ classes.\n",
    "The model should have at least three convolution layers, each followed by an activation function, and include at least two linear layers and one maxpool layer.\n",
    "Select channels and kernel sizes so that you get at least $50,000$ parameters.\n",
    "\n",
    "Calculate and print the number of learnable parameters in your model.\n",
    "\n",
    "Initialize your model and move it to the device.\n",
    "Run the model on a single image to make sure there are no errors.\n"
   ]
  },
  {
   "cell_type": "code",
   "execution_count": null,
   "metadata": {
    "id": "p7pX2Cc8Hw0V"
   },
   "outputs": [],
   "source": []
  },
  {
   "cell_type": "markdown",
   "metadata": {
    "id": "KtH3WXXf_ifL"
   },
   "source": [
    "# Problem 3\n",
    "\n",
    "Train the model by looping through the training data. Inside the loop, you should\n",
    "1. Zero out the gradients.\n",
    "2. Run the model on the inputs.\n",
    "3. Calculate the loss on the model output and the actual label.\n",
    "4. Backpropogate the error.\n",
    "5. Optimize.\n",
    "\n",
    "Run the loop for 10 epochs. At the end of each epoch, calculate the mean loss of the\n",
    "training data for that epoch. Then calculate the accuracy of the model on the test data. Since\n",
    "the model is no longer training, it needs to be set to evaluation mode using model.eval().\n",
    "To resume training at the beginning of the next epoch, set the model to training mode using\n",
    "model.train().\n",
    "\n",
    "You should have around $50\\%$ accuracy at the end of $10$ epochs.\n",
    "\n",
    "Plot the epochs v. mean training loss each epoch and the epochs v. accuracy.\n"
   ]
  },
  {
   "cell_type": "code",
   "execution_count": null,
   "metadata": {
    "id": "pDzx4o866HuF"
   },
   "outputs": [],
   "source": []
  },
  {
   "cell_type": "markdown",
   "metadata": {
    "id": "bEvqbSSe_xe8"
   },
   "source": [
    "# Problem 4\n",
    "\n",
    "Write a function that loops through the test data, modifying the images as described.\n",
    "\n",
    "Run your function for each epsilon in $[0,.05,.1,.15,.2,.25,.3]$, and plot epsilon v. accuracy.\n",
    "\n",
    "Display the perturbed version of the first image in the test data for each epsilon."
   ]
  },
  {
   "cell_type": "code",
   "execution_count": null,
   "metadata": {
    "id": "F4oECv5Xad3k"
   },
   "outputs": [],
   "source": [
    "# FGSM attack code\n",
    "def fgsm_attack(image, epsilon, data_grad):\n",
    "    # Collect the element-wise sign of the data gradient\n",
    "    sign_data_grad = data_grad.sign()\n",
    "    # Create the perturbed image by adjusting each pixel of the input image\n",
    "    perturbed_image = image + epsilon*sign_data_grad\n",
    "    # Return the perturbed image adding clipping to maintain [-1,1] range\n",
    "    return torch.clamp(perturbed_image, -1, 1)"
   ]
  },
  {
   "cell_type": "code",
   "execution_count": null,
   "metadata": {
    "id": "pMsLmlpSnGqq"
   },
   "outputs": [],
   "source": []
  }
 ],
 "metadata": {
  "accelerator": "GPU",
  "colab": {
   "collapsed_sections": [],
   "name": "solutions.ipynb",
   "provenance": []
  },
  "kernelspec": {
   "display_name": "Python 3",
   "language": "python",
   "name": "python3"
  },
  "language_info": {
   "codemirror_mode": {
    "name": "ipython",
    "version": 3
   },
   "file_extension": ".py",
   "mimetype": "text/x-python",
   "name": "python",
   "nbconvert_exporter": "python",
   "pygments_lexer": "ipython3",
   "version": "3.8.5"
  }
 },
 "nbformat": 4,
 "nbformat_minor": 4
}
