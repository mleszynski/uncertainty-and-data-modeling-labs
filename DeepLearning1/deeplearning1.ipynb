{
  "cells": [
    {
      "cell_type": "code",
      "execution_count": 1,
      "metadata": {
        "id": "mTEKNr9cHvBg"
      },
      "outputs": [],
      "source": [
        "import torch\n",
        "import torch.nn as nn\n",
        "import torch.nn.functional as F \n",
        "import torch.optim as optim\n",
        "from torchvision import datasets, transforms\n",
        "from torch.utils.data import DataLoader, RandomSampler\n",
        "import numpy as np\n",
        "import os\n",
        "import matplotlib.pyplot as plt\n",
        "from tqdm import tqdm\n",
        "\n",
        "#assert torch.cuda.is_available()\n",
        "device = torch.device(\"cuda:0\" if torch.cuda.is_available() else \"cpu\")"
      ]
    },
    {
      "cell_type": "markdown",
      "metadata": {
        "id": "5_83nhfH4GXe"
      },
      "source": [
        "# Problem 1\n",
        "Download the CIFAR10 training and test datasets.\n",
        "Transform them into tensors, normalize them as described above in the code, and create DataLoaders for each one. \n",
        "For the training set, use a batch size of 32, and for the test set, use a batch size of 1."
      ]
    },
    {
      "cell_type": "code",
      "execution_count": 3,
      "metadata": {
        "id": "md5EnYI2Rt3w",
        "colab": {
          "base_uri": "https://localhost:8080/",
          "height": 101,
          "referenced_widgets": [
            "11e54f15c4a94ebba3184b7c874f2598",
            "3510340a74a94c1587151a758d8211d1",
            "4c29c638eae7494da31adb4951a5fc83",
            "547291ddcde84ba097903b5d9a8ff133",
            "e32846a5420344368218e2a8571548ad",
            "3b5bbb7f08694313a83706474a52048d",
            "6a2876391fc84b77ac87f500c1825d2b",
            "1c71847514714e199e2e1a41b492a085",
            "f5d18e23c70d4bddac0f339591d34bcb",
            "5d0fbf414a1949e9844a8c9a7ed7c285",
            "8311d735602546cc85a8148379558479"
          ]
        },
        "outputId": "cd8f1032-cf26-474a-f7db-c58426493c96"
      },
      "outputs": [
        {
          "output_type": "stream",
          "name": "stdout",
          "text": [
            "Downloading https://www.cs.toronto.edu/~kriz/cifar-10-python.tar.gz to ../data/cifar-10-python.tar.gz\n"
          ]
        },
        {
          "output_type": "display_data",
          "data": {
            "text/plain": [
              "  0%|          | 0/170498071 [00:00<?, ?it/s]"
            ],
            "application/vnd.jupyter.widget-view+json": {
              "version_major": 2,
              "version_minor": 0,
              "model_id": "11e54f15c4a94ebba3184b7c874f2598"
            }
          },
          "metadata": {}
        },
        {
          "output_type": "stream",
          "name": "stdout",
          "text": [
            "Extracting ../data/cifar-10-python.tar.gz to ../data\n",
            "Files already downloaded and verified\n"
          ]
        }
      ],
      "source": [
        "classes = ('airplanes', 'cars', 'birds', 'cats', 'deer', 'dogs', 'frogs', 'horses', 'ships', 'trucks')\n",
        "\n",
        "# transform into tensors and normalize #########################################\n",
        "transform = transforms.Compose([transforms.ToTensor(), transforms.Normalize((.5, .5, .5), (.5, .5, .5))])\n",
        "train_data = datasets.CIFAR10('../data', train=True, download=True, transform=transform)\n",
        "test_data = datasets.CIFAR10('../data', train=False, download=True, transform=transform)"
      ]
    },
    {
      "cell_type": "code",
      "source": [
        "# create DataLoaders ###########################################################\n",
        "train_load = DataLoader(train_data, batch_size=32, shuffle=True)\n",
        "test_load = DataLoader(test_data, batch_size=1, shuffle=True)"
      ],
      "metadata": {
        "id": "l58ieRUvdRMT"
      },
      "execution_count": 6,
      "outputs": []
    },
    {
      "cell_type": "markdown",
      "metadata": {
        "id": "_n_LX7YU_eF7"
      },
      "source": [
        "# Problem 2\n",
        "\n",
        "Create a convolution model class convoles an image of size $3\\times 32 \\times 32$ into a 1D tensor that represents the $10$ classes.\n",
        "The model should have at least three convolution layers, each followed by an activation function, and include at least two linear layers and one maxpool layer.\n",
        "Select channels and kernel sizes so that you get at least $50,000$ parameters.\n",
        "\n",
        "Calculate and print the number of learnable parameters in your model.\n",
        "\n",
        "Initialize your model and move it to the device.\n",
        "Run the model on a single image to make sure there are no errors.\n"
      ]
    },
    {
      "cell_type": "code",
      "execution_count": 7,
      "metadata": {
        "id": "p7pX2Cc8Hw0V"
      },
      "outputs": [],
      "source": [
        "class ConvolutionModel(nn.Module):\n",
        "    def __init__(self):\n",
        "        super(ConvolutionModel, self).__init__()\n",
        "\n",
        "    # initialize the layers ####################################################\n",
        "        self.relu_ = nn.ReLU()\n",
        "        self.layers_ = nn.ModuleList(\n",
        "          [\n",
        "            nn.Conv2d(in_channels=3, out_channels=8, kernel_size=5),  # 6x28x28\n",
        "            nn.Conv2d(in_channels=8, out_channels=16, kernel_size=3),  # 10x26x26\n",
        "            nn.Conv2d(in_channels=16, out_channels=24, kernel_size=3),  # 12x24x24\n",
        "            nn.MaxPool2d(kernel_size=2),  # 12x12x12\n",
        "            nn.Flatten(),  # 1x1728\n",
        "            nn.Linear(in_features=24*12*12, out_features=100),  # 1x100\n",
        "            nn.Linear(in_features=100, out_features=10),  # 1x10\n",
        "          ]\n",
        "        )\n",
        "\n",
        "    def forward(self, x):\n",
        "        for item in self.layers_:\n",
        "            x = item(x)\n",
        "            x = self.relu_(x)\n",
        "        return x"
      ]
    },
    {
      "cell_type": "markdown",
      "metadata": {
        "id": "KtH3WXXf_ifL"
      },
      "source": [
        "# Problem 3\n",
        "\n",
        "Train the model by looping through the training data. Inside the loop, you should\n",
        "1. Zero out the gradients.\n",
        "2. Run the model on the inputs.\n",
        "3. Calculate the loss on the model output and the actual label.\n",
        "4. Backpropogate the error.\n",
        "5. Optimize.\n",
        "\n",
        "Run the loop for 10 epochs. At the end of each epoch, calculate the mean loss of the\n",
        "training data for that epoch. Then calculate the accuracy of the model on the test data. Since\n",
        "the model is no longer training, it needs to be set to evaluation mode using model.eval().\n",
        "To resume training at the beginning of the next epoch, set the model to training mode using\n",
        "model.train().\n",
        "\n",
        "You should have around $50\\%$ accuracy at the end of $10$ epochs.\n",
        "\n",
        "Plot the epochs v. mean training loss each epoch and the epochs v. accuracy.\n"
      ]
    },
    {
      "cell_type": "code",
      "execution_count": 8,
      "metadata": {
        "id": "pDzx4o866HuF",
        "colab": {
          "base_uri": "https://localhost:8080/"
        },
        "outputId": "a4e032ce-8253-4f8b-e982-6b9fd0b849b3"
      },
      "outputs": [
        {
          "output_type": "stream",
          "name": "stderr",
          "text": [
            "loss:1.9389: 100%|██████████| 1563/1563 [01:17<00:00, 20.21it/s]\n",
            "loss:2.0174: 100%|██████████| 1563/1563 [01:20<00:00, 19.53it/s]\n",
            "loss:1.5601: 100%|██████████| 1563/1563 [01:20<00:00, 19.42it/s]\n",
            "loss:1.7533: 100%|██████████| 1563/1563 [01:21<00:00, 19.21it/s]\n",
            "loss:1.5710: 100%|██████████| 1563/1563 [01:16<00:00, 20.41it/s]\n",
            "loss:1.8291: 100%|██████████| 1563/1563 [01:20<00:00, 19.52it/s]\n",
            "loss:2.0627: 100%|██████████| 1563/1563 [01:22<00:00, 19.01it/s]\n",
            "loss:1.6413: 100%|██████████| 1563/1563 [01:18<00:00, 19.90it/s]\n",
            "loss:1.6499: 100%|██████████| 1563/1563 [01:18<00:00, 19.80it/s]\n",
            "loss:1.4052: 100%|██████████| 1563/1563 [01:16<00:00, 20.33it/s]\n"
          ]
        }
      ],
      "source": [
        "def train(model, obj, opt, train_load, test_load, n_epochs=10):\n",
        "    e_loss = []\n",
        "    e_acc = []\n",
        "\n",
        "    # for each epoch ###########################################################\n",
        "    for i in range(n_epochs):\n",
        "        loss_vals = []\n",
        "        model.train()\n",
        "        loop = tqdm(total=len(train_load), position=0)\n",
        "        # run the models, calculate loss, and compute gradients ################\n",
        "        for batch_ind, (images, labels) in enumerate(train_load):\n",
        "            images, labels = images.to(device), labels.to(device)\n",
        "            opt.zero_grad() \n",
        "            outs = model(images) \n",
        "            loss = obj(outs, labels) \n",
        "            loss.backward() \n",
        "            opt.step()\n",
        "            loss_vals.append(loss.item())\n",
        "            loop.set_description('loss:{:.4f}'.format(loss.item()))\n",
        "            loop.update()\n",
        "\n",
        "        model.eval()\n",
        "        e_loss.append(np.mean(loss_vals))\n",
        "\n",
        "        # check accuracy values ################################################\n",
        "        acc_vals = []\n",
        "        for image, label in test_load:\n",
        "            image = image.to(device)\n",
        "            pred = model(image).cpu()\n",
        "            pred = torch.argmax(pred)\n",
        "            acc_vals.append(bool(pred == label))\n",
        "    \n",
        "        e_acc.append(np.mean(acc_vals))\n",
        "\n",
        "    return e_loss, e_acc\n",
        "\n",
        "\n",
        "# test models ##################################################################\n",
        "model = ConvolutionModel().to(device)\n",
        "obj = nn.CrossEntropyLoss()\n",
        "opt = optim.Adam(model.parameters(), lr=1e-4)\n",
        "loss, acc = train(model, obj, opt, train_load, test_load, n_epochs=10)"
      ]
    },
    {
      "cell_type": "code",
      "source": [
        "# plot results #################################################################\n",
        "plt.plot(range(10), loss)\n",
        "plt.title(\"Avg Training Losses Per Epoch\")\n",
        "plt.xlabel(\"Epoch\")\n",
        "plt.ylabel(\"Training Loss\")\n",
        "plt.show()\n",
        "plt.plot(range(10), acc)\n",
        "plt.title(\"Accuracy Per Epoch\")\n",
        "plt.xlabel(\"Epoch\")\n",
        "plt.ylabel(\"Accuracy\")\n",
        "plt.show()"
      ],
      "metadata": {
        "colab": {
          "base_uri": "https://localhost:8080/",
          "height": 573
        },
        "id": "_CuLnQmVI-uM",
        "outputId": "1791f568-7949-4f33-c28c-d7fc3ef10387"
      },
      "execution_count": 9,
      "outputs": [
        {
          "output_type": "display_data",
          "data": {
            "text/plain": [
              "<Figure size 432x288 with 1 Axes>"
            ],
            "image/png": "[encoded data removed]"
          },
          "metadata": {
            "needs_background": "light"
          }
        },
        {
          "output_type": "display_data",
          "data": {
            "text/plain": [
              "<Figure size 432x288 with 1 Axes>"
            ],
            "image/png": "[encoded data removed]"
          },
          "metadata": {
            "needs_background": "light"
          }
        }
      ]
    },
    {
      "cell_type": "markdown",
      "metadata": {
        "id": "bEvqbSSe_xe8"
      },
      "source": [
        "# Problem 4\n",
        "\n",
        "Write a function that loops through the test data, modifying the images as described.\n",
        "\n",
        "Run your function for each epsilon in $[0,.05,.1,.15,.2,.25,.3]$, and plot epsilon v. accuracy.\n",
        "\n",
        "Display the perturbed version of the first image in the test data for each epsilon."
      ]
    },
    {
      "cell_type": "code",
      "execution_count": 11,
      "metadata": {
        "id": "F4oECv5Xad3k"
      },
      "outputs": [],
      "source": [
        "# FGSM attack code\n",
        "def fgsm_attack(image, epsilon, data_grad):\n",
        "    # Collect the element-wise sign of the data gradient\n",
        "    sign_data_grad = data_grad.sign()\n",
        "    # Create the perturbed image by adjusting each pixel of the input image\n",
        "    perturbed_image = image + epsilon*sign_data_grad\n",
        "    # Return the perturbed image adding clipping to maintain [-1,1] range\n",
        "    return torch.clamp(perturbed_image, -1, 1)"
      ]
    },
    {
      "cell_type": "code",
      "execution_count": 12,
      "metadata": {
        "id": "pMsLmlpSnGqq",
        "colab": {
          "base_uri": "https://localhost:8080/",
          "height": 1000
        },
        "outputId": "fdeb40e0-a5ad-44e3-93b3-e789f07c3148"
      },
      "outputs": [
        {
          "output_type": "stream",
          "name": "stderr",
          "text": [
            "\r0it [00:00, ?it/s]"
          ]
        },
        {
          "output_type": "display_data",
          "data": {
            "text/plain": [
              "<Figure size 432x288 with 1 Axes>"
            ],
            "image/png": "[encoded data removed]"
          },
          "metadata": {
            "needs_background": "light"
          }
        },
        {
          "output_type": "stream",
          "name": "stderr",
          "text": [
            "10000it [00:25, 397.78it/s]\n",
            "0it [00:00, ?it/s]"
          ]
        },
        {
          "output_type": "display_data",
          "data": {
            "text/plain": [
              "<Figure size 432x288 with 1 Axes>"
            ],
            "image/png": "[encoded data removed]"
          },
          "metadata": {
            "needs_background": "light"
          }
        },
        {
          "output_type": "stream",
          "name": "stderr",
          "text": [
            "10000it [00:26, 374.55it/s]\n",
            "0it [00:00, ?it/s]"
          ]
        },
        {
          "output_type": "display_data",
          "data": {
            "text/plain": [
              "<Figure size 432x288 with 1 Axes>"
            ],
            "image/png": "[encoded data removed]"
          },
          "metadata": {
            "needs_background": "light"
          }
        },
        {
          "output_type": "stream",
          "name": "stderr",
          "text": [
            "10000it [00:25, 390.34it/s]\n",
            "0it [00:00, ?it/s]"
          ]
        },
        {
          "output_type": "display_data",
          "data": {
            "text/plain": [
              "<Figure size 432x288 with 1 Axes>"
            ],
            "image/png": "[encoded data removed]"
          },
          "metadata": {
            "needs_background": "light"
          }
        },
        {
          "output_type": "stream",
          "name": "stderr",
          "text": [
            "10000it [00:27, 365.59it/s]\n",
            "0it [00:00, ?it/s]"
          ]
        },
        {
          "output_type": "display_data",
          "data": {
            "text/plain": [
              "<Figure size 432x288 with 1 Axes>"
            ],
            "image/png": "[encoded data removed]"
          },
          "metadata": {
            "needs_background": "light"
          }
        },
        {
          "output_type": "stream",
          "name": "stderr",
          "text": [
            "10000it [00:26, 372.22it/s]\n",
            "0it [00:00, ?it/s]"
          ]
        },
        {
          "output_type": "display_data",
          "data": {
            "text/plain": [
              "<Figure size 432x288 with 1 Axes>"
            ],
            "image/png": "[encoded data removed]"
          },
          "metadata": {
            "needs_background": "light"
          }
        },
        {
          "output_type": "stream",
          "name": "stderr",
          "text": [
            "10000it [00:25, 391.69it/s]\n"
          ]
        },
        {
          "output_type": "display_data",
          "data": {
            "text/plain": [
              "<Figure size 432x288 with 1 Axes>"
            ],
            "image/png": "[encoded data removed]"
          },
          "metadata": {
            "needs_background": "light"
          }
        }
      ],
      "source": [
        "test_load = DataLoader(test_data, batch_size=1, shuffle=False)\n",
        "\n",
        "def attack(model, data_load, eps):\n",
        "    acc = []\n",
        "    model.eval()\n",
        "    first_iter = True\n",
        "\n",
        "    for i, (image, label) in tqdm(enumerate(data_load)):\n",
        "        image, label = image.to(device), label.to(device)\n",
        "        image.requires_grad = True\n",
        "        outs = model(image)\n",
        "\n",
        "        if torch.argmax(outs) == label:\n",
        "            loss = obj(outs, label)\n",
        "            opt.zero_grad()\n",
        "            loss.backward()\n",
        "            data_grad = image.grad.data\n",
        "            noisy = fgsm_attack(image, eps, data_grad)\n",
        "            outs = model(noisy)\n",
        "\n",
        "            if first_iter:\n",
        "                ps = noisy.squeeze().detach().cpu().numpy()\n",
        "                img = (ps/2) + 0.5\n",
        "                plt.imshow(np.transpose(img, (1, 2, 0)))\n",
        "                plt.show()\n",
        "                first_iter = False\n",
        "    \n",
        "        acc.append(bool(torch.argmax(outs).cpu() == label.cpu()))\n",
        "\n",
        "    return np.mean(acc)\n",
        "\n",
        "# get and plot results #########################################################\n",
        "acc = []\n",
        "for eps in [i for i in range(0, 6)]:\n",
        "    acc.append(attack(model, test_load, eps/20))\n",
        "\n",
        "plt.plot([i/20 for i in range(0, 6)], acc)\n",
        "plt.xlabel(\"$\\epsilon$\")\n",
        "plt.ylabel(\"Accuracy\")\n",
        "plt.show()"
      ]
    }
  ],
  "metadata": {
    "colab": {
      "collapsed_sections": [],
      "name": "deeplearning1.ipynb",
      "provenance": []
    },
    "kernelspec": {
      "display_name": "Python 3 (ipykernel)",
      "language": "python",
      "name": "python3"
    },
    "language_info": {
      "codemirror_mode": {
        "name": "ipython",
        "version": 3
      },
      "file_extension": ".py",
      "mimetype": "text/x-python",
      "name": "python",
      "nbconvert_exporter": "python",
      "pygments_lexer": "ipython3",
      "version": "3.8.12"
    },
    "widgets": {
      "application/vnd.jupyter.widget-state+json": {
        "11e54f15c4a94ebba3184b7c874f2598": {
          "model_module": "@jupyter-widgets/controls",
          "model_name": "HBoxModel",
          "model_module_version": "1.5.0",
          "state": {
            "_dom_classes": [],
            "_model_module": "@jupyter-widgets/controls",
            "_model_module_version": "1.5.0",
            "_model_name": "HBoxModel",
            "_view_count": null,
            "_view_module": "@jupyter-widgets/controls",
            "_view_module_version": "1.5.0",
            "_view_name": "HBoxView",
            "box_style": "",
            "children": [
              "IPY_MODEL_3510340a74a94c1587151a758d8211d1",
              "IPY_MODEL_4c29c638eae7494da31adb4951a5fc83",
              "IPY_MODEL_547291ddcde84ba097903b5d9a8ff133"
            ],
            "layout": "IPY_MODEL_e32846a5420344368218e2a8571548ad"
          }
        },
        "3510340a74a94c1587151a758d8211d1": {
          "model_module": "@jupyter-widgets/controls",
          "model_name": "HTMLModel",
          "model_module_version": "1.5.0",
          "state": {
            "_dom_classes": [],
            "_model_module": "@jupyter-widgets/controls",
            "_model_module_version": "1.5.0",
            "_model_name": "HTMLModel",
            "_view_count": null,
            "_view_module": "@jupyter-widgets/controls",
            "_view_module_version": "1.5.0",
            "_view_name": "HTMLView",
            "description": "",
            "description_tooltip": null,
            "layout": "IPY_MODEL_3b5bbb7f08694313a83706474a52048d",
            "placeholder": "​",
            "style": "IPY_MODEL_6a2876391fc84b77ac87f500c1825d2b",
            "value": ""
          }
        },
        "4c29c638eae7494da31adb4951a5fc83": {
          "model_module": "@jupyter-widgets/controls",
          "model_name": "FloatProgressModel",
          "model_module_version": "1.5.0",
          "state": {
            "_dom_classes": [],
            "_model_module": "@jupyter-widgets/controls",
            "_model_module_version": "1.5.0",
            "_model_name": "FloatProgressModel",
            "_view_count": null,
            "_view_module": "@jupyter-widgets/controls",
            "_view_module_version": "1.5.0",
            "_view_name": "ProgressView",
            "bar_style": "success",
            "description": "",
            "description_tooltip": null,
            "layout": "IPY_MODEL_1c71847514714e199e2e1a41b492a085",
            "max": 170498071,
            "min": 0,
            "orientation": "horizontal",
            "style": "IPY_MODEL_f5d18e23c70d4bddac0f339591d34bcb",
            "value": 170498071
          }
        },
        "547291ddcde84ba097903b5d9a8ff133": {
          "model_module": "@jupyter-widgets/controls",
          "model_name": "HTMLModel",
          "model_module_version": "1.5.0",
          "state": {
            "_dom_classes": [],
            "_model_module": "@jupyter-widgets/controls",
            "_model_module_version": "1.5.0",
            "_model_name": "HTMLModel",
            "_view_count": null,
            "_view_module": "@jupyter-widgets/controls",
            "_view_module_version": "1.5.0",
            "_view_name": "HTMLView",
            "description": "",
            "description_tooltip": null,
            "layout": "IPY_MODEL_5d0fbf414a1949e9844a8c9a7ed7c285",
            "placeholder": "​",
            "style": "IPY_MODEL_8311d735602546cc85a8148379558479",
            "value": " 170499072/? [00:13&lt;00:00, 79093826.96it/s]"
          }
        },
        "e32846a5420344368218e2a8571548ad": {
          "model_module": "@jupyter-widgets/base",
          "model_name": "LayoutModel",
          "model_module_version": "1.2.0",
          "state": {
            "_model_module": "@jupyter-widgets/base",
            "_model_module_version": "1.2.0",
            "_model_name": "LayoutModel",
            "_view_count": null,
            "_view_module": "@jupyter-widgets/base",
            "_view_module_version": "1.2.0",
            "_view_name": "LayoutView",
            "align_content": null,
            "align_items": null,
            "align_self": null,
            "border": null,
            "bottom": null,
            "display": null,
            "flex": null,
            "flex_flow": null,
            "grid_area": null,
            "grid_auto_columns": null,
            "grid_auto_flow": null,
            "grid_auto_rows": null,
            "grid_column": null,
            "grid_gap": null,
            "grid_row": null,
            "grid_template_areas": null,
            "grid_template_columns": null,
            "grid_template_rows": null,
            "height": null,
            "justify_content": null,
            "justify_items": null,
            "left": null,
            "margin": null,
            "max_height": null,
            "max_width": null,
            "min_height": null,
            "min_width": null,
            "object_fit": null,
            "object_position": null,
            "order": null,
            "overflow": null,
            "overflow_x": null,
            "overflow_y": null,
            "padding": null,
            "right": null,
            "top": null,
            "visibility": null,
            "width": null
          }
        },
        "3b5bbb7f08694313a83706474a52048d": {
          "model_module": "@jupyter-widgets/base",
          "model_name": "LayoutModel",
          "model_module_version": "1.2.0",
          "state": {
            "_model_module": "@jupyter-widgets/base",
            "_model_module_version": "1.2.0",
            "_model_name": "LayoutModel",
            "_view_count": null,
            "_view_module": "@jupyter-widgets/base",
            "_view_module_version": "1.2.0",
            "_view_name": "LayoutView",
            "align_content": null,
            "align_items": null,
            "align_self": null,
            "border": null,
            "bottom": null,
            "display": null,
            "flex": null,
            "flex_flow": null,
            "grid_area": null,
            "grid_auto_columns": null,
            "grid_auto_flow": null,
            "grid_auto_rows": null,
            "grid_column": null,
            "grid_gap": null,
            "grid_row": null,
            "grid_template_areas": null,
            "grid_template_columns": null,
            "grid_template_rows": null,
            "height": null,
            "justify_content": null,
            "justify_items": null,
            "left": null,
            "margin": null,
            "max_height": null,
            "max_width": null,
            "min_height": null,
            "min_width": null,
            "object_fit": null,
            "object_position": null,
            "order": null,
            "overflow": null,
            "overflow_x": null,
            "overflow_y": null,
            "padding": null,
            "right": null,
            "top": null,
            "visibility": null,
            "width": null
          }
        },
        "6a2876391fc84b77ac87f500c1825d2b": {
          "model_module": "@jupyter-widgets/controls",
          "model_name": "DescriptionStyleModel",
          "model_module_version": "1.5.0",
          "state": {
            "_model_module": "@jupyter-widgets/controls",
            "_model_module_version": "1.5.0",
            "_model_name": "DescriptionStyleModel",
            "_view_count": null,
            "_view_module": "@jupyter-widgets/base",
            "_view_module_version": "1.2.0",
            "_view_name": "StyleView",
            "description_width": ""
          }
        },
        "1c71847514714e199e2e1a41b492a085": {
          "model_module": "@jupyter-widgets/base",
          "model_name": "LayoutModel",
          "model_module_version": "1.2.0",
          "state": {
            "_model_module": "@jupyter-widgets/base",
            "_model_module_version": "1.2.0",
            "_model_name": "LayoutModel",
            "_view_count": null,
            "_view_module": "@jupyter-widgets/base",
            "_view_module_version": "1.2.0",
            "_view_name": "LayoutView",
            "align_content": null,
            "align_items": null,
            "align_self": null,
            "border": null,
            "bottom": null,
            "display": null,
            "flex": null,
            "flex_flow": null,
            "grid_area": null,
            "grid_auto_columns": null,
            "grid_auto_flow": null,
            "grid_auto_rows": null,
            "grid_column": null,
            "grid_gap": null,
            "grid_row": null,
            "grid_template_areas": null,
            "grid_template_columns": null,
            "grid_template_rows": null,
            "height": null,
            "justify_content": null,
            "justify_items": null,
            "left": null,
            "margin": null,
            "max_height": null,
            "max_width": null,
            "min_height": null,
            "min_width": null,
            "object_fit": null,
            "object_position": null,
            "order": null,
            "overflow": null,
            "overflow_x": null,
            "overflow_y": null,
            "padding": null,
            "right": null,
            "top": null,
            "visibility": null,
            "width": null
          }
        },
        "f5d18e23c70d4bddac0f339591d34bcb": {
          "model_module": "@jupyter-widgets/controls",
          "model_name": "ProgressStyleModel",
          "model_module_version": "1.5.0",
          "state": {
            "_model_module": "@jupyter-widgets/controls",
            "_model_module_version": "1.5.0",
            "_model_name": "ProgressStyleModel",
            "_view_count": null,
            "_view_module": "@jupyter-widgets/base",
            "_view_module_version": "1.2.0",
            "_view_name": "StyleView",
            "bar_color": null,
            "description_width": ""
          }
        },
        "5d0fbf414a1949e9844a8c9a7ed7c285": {
          "model_module": "@jupyter-widgets/base",
          "model_name": "LayoutModel",
          "model_module_version": "1.2.0",
          "state": {
            "_model_module": "@jupyter-widgets/base",
            "_model_module_version": "1.2.0",
            "_model_name": "LayoutModel",
            "_view_count": null,
            "_view_module": "@jupyter-widgets/base",
            "_view_module_version": "1.2.0",
            "_view_name": "LayoutView",
            "align_content": null,
            "align_items": null,
            "align_self": null,
            "border": null,
            "bottom": null,
            "display": null,
            "flex": null,
            "flex_flow": null,
            "grid_area": null,
            "grid_auto_columns": null,
            "grid_auto_flow": null,
            "grid_auto_rows": null,
            "grid_column": null,
            "grid_gap": null,
            "grid_row": null,
            "grid_template_areas": null,
            "grid_template_columns": null,
            "grid_template_rows": null,
            "height": null,
            "justify_content": null,
            "justify_items": null,
            "left": null,
            "margin": null,
            "max_height": null,
            "max_width": null,
            "min_height": null,
            "min_width": null,
            "object_fit": null,
            "object_position": null,
            "order": null,
            "overflow": null,
            "overflow_x": null,
            "overflow_y": null,
            "padding": null,
            "right": null,
            "top": null,
            "visibility": null,
            "width": null
          }
        },
        "8311d735602546cc85a8148379558479": {
          "model_module": "@jupyter-widgets/controls",
          "model_name": "DescriptionStyleModel",
          "model_module_version": "1.5.0",
          "state": {
            "_model_module": "@jupyter-widgets/controls",
            "_model_module_version": "1.5.0",
            "_model_name": "DescriptionStyleModel",
            "_view_count": null,
            "_view_module": "@jupyter-widgets/base",
            "_view_module_version": "1.2.0",
            "_view_name": "StyleView",
            "description_width": ""
          }
        }
      }
    }
  },
  "nbformat": 4,
  "nbformat_minor": 0
}