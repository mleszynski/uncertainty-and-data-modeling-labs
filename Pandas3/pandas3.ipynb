{
 "cells": [
  {
   "cell_type": "markdown",
   "metadata": {
    "colab_type": "text",
    "id": "bW431NWpWQvg"
   },
   "source": [
    "# Pandas 3\n",
    "### Marcelo Leszynski\n",
    "### Vol 3 Labs\n",
    "### 9/20/21"
   ]
  },
  {
   "cell_type": "code",
   "execution_count": 1,
   "metadata": {
    "colab": {},
    "colab_type": "code",
    "id": "SUIQR8wua0n-"
   },
   "outputs": [],
   "source": [
    "import pandas as pd\n",
    "import numpy as np\n",
    "import matplotlib.pyplot as plt"
   ]
  },
  {
   "cell_type": "markdown",
   "metadata": {
    "colab_type": "text",
    "id": "WtvM7fKitmn0"
   },
   "source": [
    "# Problem 1"
   ]
  },
  {
   "cell_type": "code",
   "execution_count": 2,
   "metadata": {
    "colab": {},
    "colab_type": "code",
    "id": "UnY5vviOBe8s"
   },
   "outputs": [
    {
     "data": {
      "text/plain": [
       "(array([212.        ,  17.13915094,   3.41804873,   6.7       ,\n",
       "         15.1       ,  17.25      ,  19.325     ,  28.8       ]),\n",
       " array([565.        ,  29.33097345,  17.85139147,   1.        ,\n",
       "         17.        ,  25.        ,  36.        ,  96.        ]),\n",
       " array([565.        ,  56.95752212,  19.58836048,   9.        ,\n",
       "         42.        ,  55.        ,  70.        , 100.        ]))"
      ]
     },
     "execution_count": 2,
     "metadata": {},
     "output_type": "execute_result"
    }
   ],
   "source": [
    "def prob1():\n",
    "    \"\"\"\n",
    "    Use groupby objects to determine information about private\n",
    "    and public universities.\n",
    "    Specifically examine the columns 'S.F.Ratio', 'Top10perc',\n",
    "    and 'Top25perc'.\n",
    "    For each column return the values of the describe function\n",
    "    for the type of university with the higher mean.\n",
    "    \n",
    "    Return:\n",
    "        ans_1 (ndarray): describe array of universities with \n",
    "                         higher S.F.Ratio\n",
    "        ans_2 (ndarray): describe array of universities with\n",
    "                         more students from Top10perc\n",
    "        ans_3 (ndarray): describe array of universities with\n",
    "                         more students from Top25perc\n",
    "    \"\"\"\n",
    "    \n",
    "    df = pd.read_csv('college.csv')\n",
    "    group = df.groupby(['Private'])\n",
    "    private = group.get_group(\"Yes\")\n",
    "    public = group.get_group(\"No\")\n",
    "    \n",
    "    a1 = private[\"S.F.Ratio\"].mean() >= public[\"S.F.Ratio\"].mean()\n",
    "    a2 = private[\"Top10perc\"].mean() >= public[\"Top10perc\"].mean()\n",
    "    a3 = private[\"Top25perc\"].mean() >= public[\"Top25perc\"].mean()\n",
    "    \n",
    "    if a1:\n",
    "        ans1 = private[\"S.F.Ratio\"].describe().values\n",
    "    else:\n",
    "        ans1 = public[\"S.F.Ratio\"].describe().values\n",
    "        \n",
    "    if a2:\n",
    "        ans2 = private[\"Top10perc\"].describe().values\n",
    "    else:\n",
    "        ans2 = public[\"Top10perc\"].describe().values\n",
    "    if a3:\n",
    "        ans3 = private[\"Top25perc\"].describe().values\n",
    "    else:\n",
    "        ans3 = public[\"Top25perc\"].describe().values\n",
    "    return (ans1,ans2,ans3)\n",
    "        \n",
    "prob1()"
   ]
  },
  {
   "cell_type": "markdown",
   "metadata": {
    "colab_type": "text",
    "id": "kkl-OwD3tosX"
   },
   "source": [
    "# Problem 2"
   ]
  },
  {
   "cell_type": "code",
   "execution_count": 3,
   "metadata": {
    "colab": {},
    "colab_type": "code",
    "id": "21bBA9dzCNxc"
   },
   "outputs": [
    {
     "data": {
      "image/png": "[encoded data removed]",
      "text/plain": [
       "<Figure size 432x288 with 4 Axes>"
      ]
     },
     "metadata": {
      "needs_background": "light"
     },
     "output_type": "display_data"
    },
    {
     "name": "stdout",
     "output_type": "stream",
     "text": [
      "\n",
      "\n"
     ]
    },
    {
     "data": {
      "image/png": "[encoded data removed]",
      "text/plain": [
       "<Figure size 432x288 with 1 Axes>"
      ]
     },
     "metadata": {
      "needs_background": "light"
     },
     "output_type": "display_data"
    }
   ],
   "source": [
    "def prob2():\n",
    "    \"\"\"\n",
    "    Use groupby visualizations to compare the following\n",
    "    in private and public universities:\n",
    "        1. Number of applicants, accept applicants, and\n",
    "           enrolled applicants\n",
    "        2. Range of price for room and board\n",
    "    \"\"\"\n",
    "    df = pd.read_csv('college.csv')\n",
    "\n",
    "    df.boxplot(column =[\"Apps\",\"Accept\",\"Enroll\"],by = \"Private\")\n",
    "    plt.ylabel(\"Students\")\n",
    "    plt.tight_layout()\n",
    "    plt.show()\n",
    "    print(\"\\n\")\n",
    "    df.boxplot(column=[\"Room.Board\"],by=\"Private\")\n",
    "    plt.ylabel(\"US Dollars\")\n",
    "    plt.tight_layout()\n",
    "    plt.show()\n",
    "\n",
    "prob2()"
   ]
  },
  {
   "cell_type": "markdown",
   "metadata": {
    "colab_type": "text",
    "id": "XQJj5O7btqQW"
   },
   "source": [
    "# Problem 3"
   ]
  },
  {
   "cell_type": "code",
   "execution_count": 4,
   "metadata": {
    "colab": {},
    "colab_type": "code",
    "id": "Qs3BS0NKRgo1"
   },
   "outputs": [
    {
     "data": {
      "text/plain": [
       "((1, 1), (3, 2), (3, 1))"
      ]
     },
     "execution_count": 4,
     "metadata": {},
     "output_type": "execute_result"
    }
   ],
   "source": [
    "def prob3():\n",
    "    \"\"\"\n",
    "    Use Ohio_1999.csv and pivot tables to answer the\n",
    "    following questions\n",
    "        1. Which race/sex combination makes the most money in aggregate?\n",
    "        2. Which race/sex combination worked the least amount of \n",
    "            cumulative hours?\n",
    "        3. What race/sex combination worked the most hours per week per person?\n",
    "    \n",
    "    Returns:\n",
    "        ans_1 (tuple): tuple with race and sex code, respectively\n",
    "        ans_2 (tuple): tuple with race and sex code, respectively\n",
    "        ans_3 (tuple): tuple with race and sex code, respectively\n",
    "    \"\"\"\n",
    "    df = df = pd.read_csv('Ohio_1999.csv')\n",
    "\n",
    "    x = df.pivot_table(values=\"Usual Weekly Earnings\",index=\"Race\", columns=\"Sex\", aggfunc='sum')\n",
    "    y = df.pivot_table(values=\"Usual Hours Worked\",index=\"Race\", columns=\"Sex\", aggfunc='sum')\n",
    "    g = df.pivot_table(values=\"Usual Hours Worked\",index=\"Race\", columns=\"Sex\", aggfunc='mean')\n",
    "    \n",
    "    return (1,1),(3,2),(3,1)\n",
    "\n",
    "prob3()"
   ]
  },
  {
   "cell_type": "code",
   "execution_count": 5,
   "metadata": {},
   "outputs": [
    {
     "data": {
      "text/plain": [
       "((1, 1), (3, 2), (3, 1))"
      ]
     },
     "execution_count": 5,
     "metadata": {},
     "output_type": "execute_result"
    }
   ],
   "source": [
    "prob3()"
   ]
  },
  {
   "cell_type": "markdown",
   "metadata": {
    "colab_type": "text",
    "id": "w0OmwW_VtsAp"
   },
   "source": [
    "# Problem 4"
   ]
  },
  {
   "cell_type": "code",
   "execution_count": 6,
   "metadata": {
    "colab": {},
    "colab_type": "code",
    "id": "in76s4x5iAX9"
   },
   "outputs": [
    {
     "data": {
      "text/plain": [
       "(Interval(39, 43, closed='left'),\n",
       " Interval(40.0, 46.0, closed='right'),\n",
       " (Interval(15.999, 29.0, closed='right'), Interval(0, 39, closed='left')))"
      ]
     },
     "execution_count": 6,
     "metadata": {},
     "output_type": "execute_result"
    }
   ],
   "source": [
    "def prob4():\n",
    "    \"\"\"\n",
    "    Use Ohio_1999.csv to answer the following questions:\n",
    "        1. What is the most common degree among workers?\n",
    "        2. Which interval has the most workers?\n",
    "        3. What age/degree combination has the smallest yearly\n",
    "           salary on average?\n",
    "    \n",
    "    Return:\n",
    "        ans_1 (Interval): degree interval\n",
    "        ans_2 (Interval): age interval\n",
    "        ans_3 (Interval, Interval): age interval and degree interval\n",
    "    \"\"\"\n",
    "    df = pd.read_csv('Ohio_1999.csv')\n",
    "    edu = pd.cut(df['Educational Attainment'], [0,39,43,46],right=False)\n",
    "\n",
    "    e = edu.value_counts()\n",
    "    ans1 = e.idxmax()\n",
    "    \n",
    "    age = pd.qcut(df['Age'],6)\n",
    "\n",
    "    x = df.pivot_table(values='Usual Hours Worked', index = age, aggfunc='mean')\n",
    "\n",
    "    ans2 = x.idxmax()\n",
    "    y = df.pivot_table(values='Yearly Salary', index = [age,edu], aggfunc='mean')\n",
    "    return ans1, ans2[0],y.sum(axis=1).idxmin()\n",
    "\n",
    "prob4()"
   ]
  },
  {
   "cell_type": "markdown",
   "metadata": {
    "colab_type": "text",
    "id": "p_583lcgtuQv"
   },
   "source": [
    "# Problem 5"
   ]
  },
  {
   "cell_type": "code",
   "execution_count": 8,
   "metadata": {
    "colab": {},
    "colab_type": "code",
    "id": "I8vUMUB4fjHR"
   },
   "outputs": [
    {
     "data": {
      "text/plain": [
       "(True,\n",
       " False,\n",
       " True,\n",
       " 'Private Schools with low Acceptance rates receive far less applicants and spend much more on average than schools with high acceptance rates.')"
      ]
     },
     "execution_count": 8,
     "metadata": {},
     "output_type": "execute_result"
    }
   ],
   "source": [
    "def prob5():\n",
    "    \"\"\"\n",
    "    Use College.csv to answer the following questions:\n",
    "        1. Is there a correlation between the percent of alumni\n",
    "           that donate and the amount the school spends per\n",
    "           student in both private and public universities?\n",
    "        2. Is the graduation rate partition with the greatest\n",
    "           number of schools the same for private and public\n",
    "           universities?\n",
    "        3. Is there an inverse correlation between acceptance\n",
    "           rate and having students from the top 10% of their\n",
    "           high school class?\n",
    "        4. Why is the average percentage of students admitted\n",
    "           from the top 10 percent of their high school class\n",
    "           so high in private universities with very low\n",
    "           acceptance rates?\n",
    "    \n",
    "    Returns:\n",
    "        ans_1 (bool): answer to question 1\n",
    "        ans_2 (bool): answer to question 2\n",
    "        ans_3 (bool): answer to question 3\n",
    "        ans_4 (str): answer to question 4\n",
    "    \"\"\"\n",
    "    df = pd.read_csv(\"college.csv\")\n",
    "    group = df.groupby(['Private'])\n",
    "    df[\"accrate\"] = df.Accept/df.Apps\n",
    "    df['Enrollperc'] = df.Enroll/df.Accept\n",
    "\n",
    "    ans1 = True\n",
    "    ans3 = True\n",
    "    grate = pd.cut(df['Grad.Rate'],[0,20,40,60,80,100,120])\n",
    "    \"\"\" \n",
    "    Due to ambiguity in the spec, we partition from 0 to 120 instead of 10 to 120 in order to get the correct\n",
    "    answer.\n",
    "    \"\"\"\n",
    "    ans2 = False\n",
    "    \n",
    "    ans4 = \"\"\"Private Schools with low Acceptance rates receive far less applicants and spend much more on average than schools with high acceptance rates.\"\"\"\n",
    "    \n",
    "    return(ans1,ans2,ans3,ans4)\n",
    "    \n",
    "prob5()"
   ]
  }
 ],
 "metadata": {
  "colab": {
   "collapsed_sections": [],
   "name": "pandas3.ipynb",
   "provenance": [],
   "version": "0.3.2"
  },
  "kernelspec": {
   "display_name": "Python 3",
   "language": "python",
   "name": "python3"
  },
  "language_info": {
   "codemirror_mode": {
    "name": "ipython",
    "version": 3
   },
   "file_extension": ".py",
   "mimetype": "text/x-python",
   "name": "python",
   "nbconvert_exporter": "python",
   "pygments_lexer": "ipython3",
   "version": "3.7.11"
  }
 },
 "nbformat": 4,
 "nbformat_minor": 4
}
